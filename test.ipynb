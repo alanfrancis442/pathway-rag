{
 "cells": [
  {
   "cell_type": "code",
   "execution_count": 22,
   "metadata": {},
   "outputs": [],
   "source": [
    "import pathway as pw\n",
    "\n",
    "# This creates a connector that tracks files in a given directory.\n",
    "data_sources = []\n",
    "data_sources.append(\n",
    "    pw.io.fs.read(\n",
    "        \"./files\",\n",
    "        format=\"binary\",\n",
    "        mode=\"streaming\",\n",
    "        with_metadata=True,\n",
    "    )\n",
    ")\n"
   ]
  },
  {
   "cell_type": "code",
   "execution_count": 46,
   "metadata": {},
   "outputs": [
    {
     "name": "stdout",
     "output_type": "stream",
     "text": [
      "{'__module__': 'pathway.internals.table', '__annotations__': {'_columns': 'dict[str, clmn.Column]', '_schema': 'type[Schema]', '_id_column': 'clmn.IdColumn', '_rowwise_context': 'clmn.RowwiseContext', '_source': 'SetOnceProperty[OutputHandle]'}, '__doc__': \"Collection of named columns over identical universes.\\n\\n    Example:\\n\\n    >>> import pathway as pw\\n    >>> t1 = pw.debug.table_from_markdown('''\\n    ... age | owner | pet\\n    ... 10  | Alice | dog\\n    ... 9   | Bob   | dog\\n    ... 8   | Alice | cat\\n    ... 7   | Bob   | dog\\n    ... ''')\\n    >>> isinstance(t1, pw.Table)\\n    True\\n    \", '_source': <pathway.internals.helpers.SetOnceProperty object at 0x7057b00da6d0>, '__init__': <function Table.__init__ at 0x7057b0137240>, 'id': <property object at 0x7057b0138540>, 'column_names': <function Table.column_names at 0x7057b0163560>, 'keys': <function Table.keys at 0x7057b0163600>, '_get_column': <function Table._get_column at 0x7057b01636a0>, '_ipython_key_completions_': <function Table._ipython_key_completions_ at 0x7057b0163740>, '__dir__': <function Table.__dir__ at 0x7057b01637e0>, '_C': <property object at 0x7057b0164c70>, 'schema': <property object at 0x7057b0164cc0>, '_get_colref_by_name': <function Table._get_colref_by_name at 0x7057b01639c0>, '__getitem__': <function Table.__getitem__ at 0x7057b0163ce0>, 'from_columns': <function Table.from_columns at 0x7057b0163ec0>, 'concat_reindex': <function Table.concat_reindex at 0x7057b016c0e0>, 'empty': <function Table.empty at 0x7057b016c2c0>, 'select': <function Table.select at 0x7057b016c680>, '__add__': <function Table.__add__ at 0x7057b016c7c0>, 'slice': <property object at 0x7057b0164e00>, 'filter': <function Table.filter at 0x7057b016cae0>, 'split': <function Table.split at 0x7057b016cd60>, '_filter': <function Table._filter at 0x7057b016cea0>, '_gradual_broadcast': <function Table._gradual_broadcast at 0x7057b016d120>, '_Table__gradual_broadcast': <function Table.__gradual_broadcast at 0x7057b016d440>, '_forget': <function Table._forget at 0x7057b016d760>, '_forget_immediately': <function Table._forget_immediately at 0x7057b016da80>, '_filter_out_results_of_forgetting': <function Table._filter_out_results_of_forgetting at 0x7057b016dda0>, '_freeze': <function Table._freeze at 0x7057b016e0c0>, '_buffer': <function Table._buffer at 0x7057b016e3e0>, 'difference': <function Table.difference at 0x7057b016e5c0>, 'intersect': <function Table.intersect at 0x7057b016e7a0>, 'restrict': <function Table.restrict at 0x7057b016e980>, 'copy': <function Table.copy at 0x7057b016eb60>, 'groupby': <function Table.groupby at 0x7057b016ef20>, 'reduce': <function Table.reduce at 0x7057b016f240>, 'deduplicate': <function Table.deduplicate at 0x7057b016f560>, 'ix': <function Table.ix at 0x7057b016f6a0>, '_ix': <function Table._ix at 0x7057b016f7e0>, '__lshift__': <function Table.__lshift__ at 0x7057b016f880>, 'concat': <function Table.concat at 0x7057b016fa60>, '_concat': <function Table._concat at 0x7057b016fc40>, 'update_cells': <function Table.update_cells at 0x7057b016fe20>, '_update_cells': <function Table._update_cells at 0x7057b01780e0>, 'update_rows': <function Table.update_rows at 0x7057b01782c0>, '_update_rows': <function Table._update_rows at 0x7057b0178540>, 'with_columns': <function Table.with_columns at 0x7057b0178720>, 'with_id': <function Table.with_id at 0x7057b01789a0>, 'with_id_from': <function Table.with_id_from at 0x7057b0178c20>, '_with_new_index': <function Table._with_new_index at 0x7057b0178ea0>, 'rename_columns': <function Table.rename_columns at 0x7057b01791c0>, 'rename_by_dict': <function Table.rename_by_dict at 0x7057b0179300>, 'with_prefix': <function Table.with_prefix at 0x7057b0179440>, 'with_suffix': <function Table.with_suffix at 0x7057b0179580>, 'rename': <function Table.rename at 0x7057b0179760>, 'without': <function Table.without at 0x7057b0179a80>, 'having': <function Table.having at 0x7057b0179d00>, 'update_types': <function Table.update_types at 0x7057b0179ee0>, 'cast_to_types': <function Table.cast_to_types at 0x7057b017a020>, '_having': <function Table._having at 0x7057b017a200>, 'with_universe_of': <function Table.with_universe_of at 0x7057b017a3e0>, 'flatten': <function Table.flatten at 0x7057b017a5c0>, '_flatten': <function Table._flatten at 0x7057b017a7a0>, 'sort': <function Table.sort at 0x7057b017aac0>, '_set_source': <function Table._set_source at 0x7057b017ab60>, '_unsafe_promise_universe': <function Table._unsafe_promise_universe at 0x7057b017aca0>, '_validate_expression': <function Table._validate_expression at 0x7057b017ad40>, '_wrap_column_in_context': <function Table._wrap_column_in_context at 0x7057b017ade0>, '_table_with_context': <function Table._table_with_context at 0x7057b017ae80>, '_table_restricted_context': <functools.cached_property object at 0x7057b017dfd0>, '_eval': <function Table._eval at 0x7057b017afc0>, '_from_schema': <classmethod(<function Table._from_schema at 0x7057b017b060>)>, '__repr__': <function Table.__repr__ at 0x7057b017b100>, '_with_same_universe': <function Table._with_same_universe at 0x7057b017b1a0>, '_sort_columns_by_other': <function Table._sort_columns_by_other at 0x7057b017b240>, '_operator_dependencies': <function Table._operator_dependencies at 0x7057b017b2e0>, 'debug': <function Table.debug at 0x7057b017b380>, 'to': <function Table.to at 0x7057b017b420>, '_materialize': <function Table._materialize at 0x7057b017b4c0>, 'pointer_from': <function Table.pointer_from at 0x7057b017b600>, 'ix_ref': <function Table.ix_ref at 0x7057b017b740>, '_subtables': <function Table._subtables at 0x7057b017b7e0>, '_substitutions': <function Table._substitutions at 0x7057b017b880>, 'typehints': <function Table.typehints at 0x7057b017b920>, 'eval_type': <function Table.eval_type at 0x7057b017b9c0>, '__orig_bases__': (<class 'pathway.internals.joins.Joinable'>, <class 'pathway.internals.operator_input.OperatorInput'>, typing.Generic[~TSchema]), '__parameters__': (~TSchema,), 'asof_join': <function asof_join at 0x7057935e1da0>, 'asof_join_left': <function asof_join_left at 0x7057935e22a0>, 'asof_join_right': <function asof_join_right at 0x7057935e27a0>, 'asof_join_outer': <function asof_join_outer at 0x7057935e2ca0>, 'asof_now_join': <function asof_now_join at 0x7057935e3a60>, 'asof_now_join_inner': <function asof_now_join_inner at 0x7057935e3f60>, 'asof_now_join_left': <function asof_now_join_left at 0x7057935fc4a0>, 'window_join': <function window_join at 0x7057935ffba0>, 'window_join_inner': <function window_join_inner at 0x70579330c0e0>, 'window_join_left': <function window_join_left at 0x70579330c5e0>, 'window_join_right': <function window_join_right at 0x70579330cae0>, 'window_join_outer': <function window_join_outer at 0x70579330cfe0>, 'interval_join': <function interval_join at 0x7057935fdbc0>, 'interval_join_inner': <function interval_join_inner at 0x7057935fe0c0>, 'interval_join_left': <function interval_join_left at 0x7057935fe5c0>, 'interval_join_right': <function interval_join_right at 0x7057935feac0>, 'interval_join_outer': <function interval_join_outer at 0x7057935fefc0>, 'interpolate': <function interpolate at 0x7057935c3c40>, 'windowby': <function windowby at 0x70579330f2e0>, 'diff': <function diff at 0x7057935c3380>, 'plot': <function plot at 0x70579330f600>, 'show': <function show at 0x705793384040>, '_repr_mimebundle_': <function _repr_mimebundle_ at 0x70579330f740>}\n"
     ]
    }
   ],
   "source": [
    "data = [*data_sources]\n",
    "#print(data_sources)\n",
    "len(data)\n",
    "print(type(data[0]).__dict__)"
   ]
  },
  {
   "cell_type": "code",
   "execution_count": 21,
   "metadata": {},
   "outputs": [
    {
     "ename": "TypeError",
     "evalue": "object of type 'NoneType' has no len()",
     "output_type": "error",
     "traceback": [
      "\u001b[0;31m---------------------------------------------------------------------------\u001b[0m",
      "\u001b[0;31mTypeError\u001b[0m                                 Traceback (most recent call last)",
      "Cell \u001b[0;32mIn[21], line 17\u001b[0m\n\u001b[1;32m     13\u001b[0m embedder \u001b[38;5;241m=\u001b[39m LiteLLMEmbedder(model\u001b[38;5;241m=\u001b[39m\u001b[38;5;124m'\u001b[39m\u001b[38;5;124mollama/all-minilm\u001b[39m\u001b[38;5;124m'\u001b[39m)\n\u001b[1;32m     15\u001b[0m \u001b[38;5;66;03m# The `PathwayVectorServer` is a wrapper over `pathway.xpacks.llm.vector_store` to accept LangChain transformers.\u001b[39;00m\n\u001b[1;32m     16\u001b[0m \u001b[38;5;66;03m# Fell free to fork it to develop bespoke document processing pipelines.\u001b[39;00m\n\u001b[0;32m---> 17\u001b[0m vector_server \u001b[38;5;241m=\u001b[39m \u001b[43mVectorStoreServer\u001b[49m\u001b[43m(\u001b[49m\n\u001b[1;32m     18\u001b[0m \u001b[43m    \u001b[49m\u001b[38;5;241;43m*\u001b[39;49m\u001b[43mdata_sources\u001b[49m\u001b[43m,\u001b[49m\n\u001b[1;32m     19\u001b[0m \u001b[43m    \u001b[49m\u001b[43membedder\u001b[49m\u001b[38;5;241;43m=\u001b[39;49m\u001b[43membedder\u001b[49m\u001b[43m,\u001b[49m\n\u001b[1;32m     20\u001b[0m \u001b[43m    \u001b[49m\u001b[43msplitter\u001b[49m\u001b[38;5;241;43m=\u001b[39;49m\u001b[43mtext_splitter\u001b[49m\u001b[43m,\u001b[49m\n\u001b[1;32m     21\u001b[0m \u001b[43m)\u001b[49m\n\u001b[1;32m     22\u001b[0m vector_server\u001b[38;5;241m.\u001b[39mrun_server(host\u001b[38;5;241m=\u001b[39m\u001b[38;5;124m\"\u001b[39m\u001b[38;5;124m127.0.0.1\u001b[39m\u001b[38;5;124m\"\u001b[39m, port\u001b[38;5;241m=\u001b[39mPATHWAY_PORT, threaded\u001b[38;5;241m=\u001b[39m\u001b[38;5;28;01mTrue\u001b[39;00m, with_cache\u001b[38;5;241m=\u001b[39m\u001b[38;5;28;01mFalse\u001b[39;00m)\n\u001b[1;32m     23\u001b[0m time\u001b[38;5;241m.\u001b[39msleep(\u001b[38;5;241m30\u001b[39m)  \u001b[38;5;66;03m# Workaround for Colab - messages from threads are not visible unless a cell is running\u001b[39;00m\n",
      "File \u001b[0;32m~/miniconda3/envs/env/lib/python3.11/site-packages/pathway/xpacks/llm/vector_store.py:116\u001b[0m, in \u001b[0;36mVectorStoreServer.__init__\u001b[0;34m(self, embedder, parser, splitter, doc_post_processors, index_params, *docs)\u001b[0m\n\u001b[1;32m    113\u001b[0m \u001b[38;5;28mself\u001b[39m\u001b[38;5;241m.\u001b[39membedder \u001b[38;5;241m=\u001b[39m _unwrap_udf(embedder)\n\u001b[1;32m    115\u001b[0m \u001b[38;5;66;03m# detect the dimensionality of the embeddings\u001b[39;00m\n\u001b[0;32m--> 116\u001b[0m \u001b[38;5;28mself\u001b[39m\u001b[38;5;241m.\u001b[39membedding_dimension \u001b[38;5;241m=\u001b[39m \u001b[38;5;28;43mlen\u001b[39;49m\u001b[43m(\u001b[49m\u001b[43m_coerce_sync\u001b[49m\u001b[43m(\u001b[49m\u001b[38;5;28;43mself\u001b[39;49m\u001b[38;5;241;43m.\u001b[39;49m\u001b[43membedder\u001b[49m\u001b[43m)\u001b[49m\u001b[43m(\u001b[49m\u001b[38;5;124;43m\"\u001b[39;49m\u001b[38;5;124;43m.\u001b[39;49m\u001b[38;5;124;43m\"\u001b[39;49m\u001b[43m)\u001b[49m\u001b[43m)\u001b[49m\n\u001b[1;32m    118\u001b[0m DEFAULT_INDEX_PARAMS \u001b[38;5;241m=\u001b[39m \u001b[38;5;28mdict\u001b[39m(distance_type\u001b[38;5;241m=\u001b[39m\u001b[38;5;124m\"\u001b[39m\u001b[38;5;124mcosine\u001b[39m\u001b[38;5;124m\"\u001b[39m)\n\u001b[1;32m    119\u001b[0m \u001b[38;5;28;01mif\u001b[39;00m index_params \u001b[38;5;129;01mis\u001b[39;00m \u001b[38;5;129;01mnot\u001b[39;00m \u001b[38;5;28;01mNone\u001b[39;00m:\n",
      "\u001b[0;31mTypeError\u001b[0m: object of type 'NoneType' has no len()"
     ]
    }
   ],
   "source": [
    "# We now build the VectorStore pipeline\n",
    "\n",
    "from pathway.xpacks.llm.embedders import LiteLLMEmbedder\n",
    "from pathway.xpacks.llm.splitters import TokenCountSplitter\n",
    "from pathway.xpacks.llm.vector_store import VectorStoreClient, VectorStoreServer\n",
    "import time\n",
    "\n",
    "PATHWAY_PORT = 8765\n",
    "\n",
    "# Choose document transformers\n",
    "text_splitter = TokenCountSplitter()\n",
    "#embedder = OpenAIEmbedder(api_key=os.environ[\"OPENAI_API_KEY\"])\n",
    "embedder = LiteLLMEmbedder(model='ollama/all-minilm')\n",
    "\n",
    "# The `PathwayVectorServer` is a wrapper over `pathway.xpacks.llm.vector_store` to accept LangChain transformers.\n",
    "# Fell free to fork it to develop bespoke document processing pipelines.\n",
    "vector_server = VectorStoreServer(\n",
    "    *data_sources,\n",
    "    embedder=embedder,\n",
    "    splitter=text_splitter,\n",
    ")\n",
    "vector_server.run_server(host=\"127.0.0.1\", port=PATHWAY_PORT, threaded=True, with_cache=False)\n",
    "time.sleep(30)  # Workaround for Colab - messages from threads are not visible unless a cell is running\n",
    "\n",
    "# You can connect to the Pathway+LlamaIndex server using any client - Pathway's, Langchain's or LlamaIndex's!\n",
    "client = VectorStoreClient(\n",
    "    host=\"127.0.0.1\",\n",
    "    port=PATHWAY_PORT+1,\n",
    ")\n",
    "\n",
    "client.query(\"pathway\")\n",
    "\n"
   ]
  }
 ],
 "metadata": {
  "kernelspec": {
   "display_name": "env",
   "language": "python",
   "name": "python3"
  },
  "language_info": {
   "codemirror_mode": {
    "name": "ipython",
    "version": 3
   },
   "file_extension": ".py",
   "mimetype": "text/x-python",
   "name": "python",
   "nbconvert_exporter": "python",
   "pygments_lexer": "ipython3",
   "version": "3.11.9"
  }
 },
 "nbformat": 4,
 "nbformat_minor": 2
}
